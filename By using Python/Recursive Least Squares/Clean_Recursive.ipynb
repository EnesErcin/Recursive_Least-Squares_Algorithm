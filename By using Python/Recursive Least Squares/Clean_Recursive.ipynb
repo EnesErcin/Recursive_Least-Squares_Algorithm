{
 "cells": [
  {
   "cell_type": "code",
   "execution_count": 1,
   "metadata": {},
   "outputs": [],
   "source": [
    "import numpy as np\n",
    "import pandas as pd"
   ]
  },
  {
   "cell_type": "code",
   "execution_count": 401,
   "metadata": {},
   "outputs": [
    {
     "name": "stdout",
     "output_type": "stream",
     "text": [
      "[-0.32230035  0.67769965  1.67769965  2.67769965]\n"
     ]
    }
   ],
   "source": [
    "n_moment = np.random.normal(0,1,1)\n",
    "X = [1,2,3,4]\n",
    "X = np.add(X,n_moment)\n",
    "print(X)"
   ]
  },
  {
   "cell_type": "code",
   "execution_count": 421,
   "metadata": {},
   "outputs": [
    {
     "name": "stdout",
     "output_type": "stream",
     "text": [
      "5.0 () <class 'numpy.float64'>\n"
     ]
    }
   ],
   "source": [
    "A = np.linspace(1,1,5) \n",
    "B = np.linspace(1,1,5) \n",
    "D = np.dot(A,B)\n",
    "#print(len(D) == 1)\n",
    "print(D, np.shape(D),type(D))"
   ]
  },
  {
   "cell_type": "code",
   "execution_count": 476,
   "metadata": {},
   "outputs": [],
   "source": [
    "class rls_algo:\n",
    "    def __init__(self,total_measurement,memory_size,forgetting_factor):\n",
    "        self.total_measurement = total_measurement\n",
    "        self.memory_size = memory_size\n",
    "        self.time = 0\n",
    "        self.measure = np.zeros(memory_size)\n",
    "        assert(forgetting_factor < 1) # forgetting factor should be 0<x<1\n",
    "        self.forgetting_factor = forgetting_factor\n",
    "        self.forgetting_factor_matrix = np.array([(1 ,0, 0),(0, forgetting_factor, 0),(0, 0, forgetting_factor**2)])\n",
    "\n",
    "        #self.channels = np.linspace(1,0.2,memory_size) #Fading channel\n",
    "        self.channels = np.linspace(1,1,memory_size) \n",
    "        self.h =  np.ones(memory_size)                    # Estimation vector\n",
    "\n",
    "        # Initiate neccesery matrices\n",
    "        self.q_test     = np.zeros(memory_size)            #Dimension is (,mem)\n",
    "        self.p_test     = np.zeros(memory_size)            #Dimension is (,mem)\n",
    "        self_Rx_martrix = np.zeros((memory_size,memory_size)) #Dimension is (mem,mem)\n",
    "        self_P          = np.zeros((memory_size,memory_size)) #Dimension is (mem,mem)\n",
    "        self.k          = np.zeros(memory_size)            #Dimension is (,mem)\n",
    "\n",
    "        self.x = 0\n",
    "        self.y = 0\n",
    "\n",
    "    # Update the measurments\n",
    "    #####################################################\n",
    "    def update_measurments(self):\n",
    "        self.time = self.time + 1\n",
    "        self.measure = np.array(self.total_measurement[self.time:self.time+3])\n",
    "\n",
    "    #Generate x with new measurements\n",
    "    #####################################################\n",
    "    def generate_x(self):\n",
    "        self.x  = np.convolve(self.channels,self.measure,\"valid\")\n",
    "        #self.x  = np.dot(self.channels,self.measure)\n",
    "        assert(len(self.x) == 1) #To make any prediction the \"amount of measurements\" aquired must be at \"number of channels\".\n",
    "        n_moment = np.random.normal(0,1,1)\n",
    "        self.x = np.add(self.x,n_moment)\n",
    "\n",
    "        #q_test array is filled as FILO\n",
    "        self.q_test = np.insert( self.q_test ,0,self.x)\n",
    "        self.q_test = np.delete( self.q_test ,(len(self.q_test)-1))\n",
    "\n",
    "    #Generate y with x and previous estimates\n",
    "    #####################################################\n",
    "    def generate_y(self):\n",
    "        #Determine y and e append to Y\n",
    "        self.y = np.convolve(self.q_test,self.h,\"valid\")\n",
    "        #self.y  = np.dot(self.h,self.q_test)\n",
    "        assert(len(self.y) == 1) #To make any prediction the \"amount of measurements\" aquired must be at \"number of channels\".\n",
    "    \n",
    "    #Determine p array\n",
    "    #####################################################\n",
    "    def update_p(self):\n",
    "        assert(np.shape(self.p_test) == (3,)) # p_test is not correct shape\n",
    "        if (self.time > self.memory_size):\n",
    "            self.p_test = self.forgetting_factor*self.p_test + self.q_test*self.measure[2]\n",
    "        elif(self.time == self.memory_size):\n",
    "            # First meanigful p is determined after num of recorded measurements are equal to num of memory\n",
    "            for k in range (self.memory_size):\n",
    "                self.p_test =  np.zeros(self.memory_size)\n",
    "                self.p_test =  self.p_test + np.transpose(self.q_test)*self.measure[k]*self.forgetting_factor**self.k\n",
    "        else: \n",
    "            pass\n",
    "\n",
    "    #Function for determining R_x matrix recursively\n",
    "    #####################################################\n",
    "    def update_R_x(self):\n",
    "        if (self.time > self.memory_size):\n",
    "            self.R_x_matrix = self.forgetting_factor*self.R_x_matrix + np.outer(np.transpose(self.q_test), self.q_test)\n",
    "        elif(self.time == self.memory_size):\n",
    "            # First meanigful R_x is determined after num of recorded measurements are equal to num of memory\n",
    "            self.R_x_matrix =  np.outer(np.transpose(self.q_test), self.q_test) * self.forgetting_factor_matrix\n",
    "        else: \n",
    "            pass\n",
    "\n",
    "    #Function for updating { P  == inverse of R_x } recursively\n",
    "    #####################################################\n",
    "    def update_P(self):\n",
    "        if (self.time > self.memory_size):    \n",
    "            #Determing  Kalman Gain Factor\n",
    "            self.k = np.dot(self.P,self.q_test)/(self.forgetting_factor+ np.dot(np.dot(np.transpose(self.q_test),self.P),np.transpose(self.q_test)))\n",
    "            # Sherman-Morrison formula for updating the inverse of R_x\n",
    "            self.P = (self.forgetting_factor**-1)*self.P -((self.forgetting_factor**-1)* np.dot(self.k,np.transpose(self.q_test))*self.P)\n",
    "        elif(self.time == self.memory_size):\n",
    "            # First meanigful P is determined after num of recorded measurements are equal to num of memory\n",
    "            assert(np.linalg.det(self.R_x_matrix) != 0) \n",
    "            # Zero determinant matrix inversion not possible wait for another measurement\n",
    "            self.P = np.linalg.inv(self.R_x_matrix)\n",
    "        else: \n",
    "            pass\n",
    "\n",
    "    #Function for updating {-- The Estimate --} recursively\n",
    "    #####################################################\n",
    "    def update_solution(self):\n",
    "        if (self.time > self.memory_size):\n",
    "            self.h = self.h + self.k*(self.measure -np.transpose(self.q_test)*self.h) \n",
    "        elif(self.time == self.memory_size):\n",
    "            pass\n",
    "        else: \n",
    "            pass\n",
    "\n",
    "\n",
    "    #  Reset variables (Does not work correctly ?)\n",
    "    #####################################################\n",
    "    def reset_timer(self):\n",
    "        self.time    = 0\n",
    "        self.measure = np.zeros(self.memory_size)\n",
    "        self.x = 0\n",
    "        self.y = 0\n",
    "        self.q_test     = np.zeros(self.memory_size)            \n",
    "        self.p_Test     = np.zeros(self.memory_size)     \n",
    "        self_Rx_martrix = np.zeros((self.memory_size,self.memory_size)) #Dimension is (mem,mem)\n",
    "        self.k          = np.zeros(self.memory_size)            #Dimension is (,mem)       \n",
    "        self_P          = np.zeros((self.memory_size,self.memory_size)) #Dimension is (mem,mem)\n",
    "        self.h          =  np.ones(self.memory_size)                    # Estimation vector\n",
    "\n",
    "        "
   ]
  },
  {
   "cell_type": "code",
   "execution_count": 438,
   "metadata": {},
   "outputs": [],
   "source": [
    "full_measurments = np.append(np.array([4,2,7]) ,np.arange(20) )"
   ]
  },
  {
   "cell_type": "code",
   "execution_count": 486,
   "metadata": {},
   "outputs": [],
   "source": [
    "My_algo = rls_algo(total_measurement =full_measurments, memory_size=3,forgetting_factor=0.3 )"
   ]
  },
  {
   "cell_type": "code",
   "execution_count": 487,
   "metadata": {},
   "outputs": [
    {
     "name": "stdout",
     "output_type": "stream",
     "text": [
      "Estimation no 0 --> [0.30761366 0.4984518  0.42100682]\n",
      "Estimation no 1 --> [0.31132497 0.5055751  0.40641144]\n",
      "Estimation no 2 --> [0.30961732 0.69153345 0.51486928]\n",
      "Estimation no 3 --> [0.30962811 0.40449379 0.40643099]\n",
      "Estimation no 4 --> [0.31573984 0.45791352 0.44553463]\n",
      "Estimation no 5 --> [0.31332599 0.4143912  0.40685894]\n",
      "Estimation no 6 --> [0.31369367 0.37610697 0.40964208]\n",
      "Estimation no 7 --> [0.30926182 0.47795608 0.40796828]\n",
      "Estimation no 8 --> [0.31504696 0.42372632 0.40376172]\n",
      "Estimation no 9 --> [0.31269534 0.64487839 0.47220255]\n"
     ]
    }
   ],
   "source": [
    "X_store = np.zeros((len(My_algo.total_measurement)  , 10))\n",
    "Y_store = np.zeros((len(My_algo.total_measurement)  , 10))\n",
    "E_store = np.zeros((len(My_algo.total_measurement)  , 10))  \n",
    "H_store = np.zeros((My_algo.memory_size,10))\n",
    "\n",
    "for k in range (0,10):\n",
    "    for i in range (0, len(My_algo.total_measurement) - My_algo.memory_size ):\n",
    "        My_algo.update_measurments()\n",
    "        My_algo.generate_x()\n",
    "        X_store[i,k] = My_algo.x\n",
    "        My_algo.generate_y()\n",
    "        #print(\"Y\", My_algo.y , \"X\", My_algo.x ,\"Measurment\" ,My_algo.measure ,\"H\" ,My_algo.h )\n",
    "        Y_store[i,k] = My_algo.y\n",
    "        My_algo.update_p()\n",
    "        My_algo.update_R_x()\n",
    "        My_algo.update_P()\n",
    "        My_algo.update_solution()\n",
    "        #print(My_algo.time)\n",
    "\n",
    "    print(\"Estimation no {} -->\".format(k), My_algo.h)\n",
    "    H_store[:,k] = My_algo.h\n",
    "    E_store[:,k] = Y_store[:,k] - My_algo.total_measurement\n",
    "    My_algo = rls_algo(total_measurement =full_measurments, memory_size=3,forgetting_factor=0.3 )"
   ]
  },
  {
   "cell_type": "code",
   "execution_count": null,
   "metadata": {},
   "outputs": [],
   "source": []
  },
  {
   "cell_type": "code",
   "execution_count": null,
   "metadata": {},
   "outputs": [],
   "source": []
  },
  {
   "cell_type": "code",
   "execution_count": null,
   "metadata": {},
   "outputs": [],
   "source": []
  },
  {
   "cell_type": "code",
   "execution_count": 488,
   "metadata": {},
   "outputs": [
    {
     "data": {
      "text/plain": [
       "array([  6.68846325,  18.15124059,  14.67357573,  16.03257121,\n",
       "        11.306401  ,  16.96609926,  22.80947845,  27.89768195,\n",
       "        30.37664506,  33.71607075,  38.06139516,  40.94718547,\n",
       "        44.82619112,  48.38833099,  50.91847124,  53.34690108,\n",
       "        55.16254387,  57.40632368,  61.00396957,  64.69011718,\n",
       "       -17.        , -18.        , -19.        ])"
      ]
     },
     "execution_count": 488,
     "metadata": {},
     "output_type": "execute_result"
    }
   ],
   "source": [
    "E_store[:,2] #Error is increasing constantly why ??"
   ]
  },
  {
   "cell_type": "code",
   "execution_count": 489,
   "metadata": {},
   "outputs": [
    {
     "name": "stdout",
     "output_type": "stream",
     "text": [
      "[45.06139516 48.94718547 53.82619112 58.38833099 61.91847124]\n",
      "[26.83644187 28.48873218 34.09991038 35.41214768 38.44596361]\n"
     ]
    }
   ],
   "source": [
    "print(Y_store[10:15,2])\n",
    "print(X_store[10:15,2])"
   ]
  },
  {
   "cell_type": "code",
   "execution_count": null,
   "metadata": {},
   "outputs": [],
   "source": [
    "#### Debugging \n",
    "    # X,Y generation"
   ]
  },
  {
   "cell_type": "code",
   "execution_count": 471,
   "metadata": {},
   "outputs": [],
   "source": [
    "class generate_sm():\n",
    "    def __init__(self,channels,measurments,mem_size):\n",
    "        self.channels    = channels\n",
    "        self.measurments = measurments\n",
    "        self.x = 0\n",
    "        self.y = 0\n",
    "        self.q_test = np.zeros(mem_size)\n",
    "\n",
    "    #Generate x with new measurements\n",
    "    #####################################################\n",
    "    def generate_x(self):\n",
    "        self.x  = np.convolve(self.channels,self.measurments,\"valid\")\n",
    "        #assert(len(self.x) == 1) #To make any prediction the \"amount of measurements\" aquired must be at \"number of channels\".\n",
    "        n_moment = np.random.normal(0,1,1)\n",
    "        self.x = np.add(self.x,n_moment)\n",
    "\n",
    "        #q_test array is filled as FILO\n",
    "        self.q_test = np.insert( self.q_test ,0,self.x)\n",
    "        self.q_test = np.delete( self.q_test ,(len(self.q_test)-1))\n",
    "\n",
    "    #Generate y with x and previous estimates\n",
    "    #####################################################\n",
    "    def generate_y(self):\n",
    "        #Determine y and e append to Y\n",
    "        self.y = np.convolve(h,self.q_test,\"valid\")\n",
    "        #assert(len(self.y) == 1) #To make any prediction the \"amount of measurements\" aquired must be at \"number of channels\".\n"
   ]
  },
  {
   "cell_type": "code",
   "execution_count": 472,
   "metadata": {},
   "outputs": [],
   "source": [
    "My_test = generate_sm(channels=[1,2,3],measurments=np.arange(10),mem_size = 3)"
   ]
  },
  {
   "cell_type": "code",
   "execution_count": 473,
   "metadata": {},
   "outputs": [],
   "source": [
    "My_test.generate_x()"
   ]
  },
  {
   "cell_type": "code",
   "execution_count": 474,
   "metadata": {},
   "outputs": [
    {
     "data": {
      "text/plain": [
       "array([ 4.59632062, 10.59632062, 16.59632062, 22.59632062, 28.59632062,\n",
       "       34.59632062, 40.59632062, 46.59632062])"
      ]
     },
     "execution_count": 474,
     "metadata": {},
     "output_type": "execute_result"
    }
   ],
   "source": [
    "My_test.x"
   ]
  }
 ],
 "metadata": {
  "kernelspec": {
   "display_name": "Python 3.7.9 64-bit (microsoft store)",
   "language": "python",
   "name": "python3"
  },
  "language_info": {
   "codemirror_mode": {
    "name": "ipython",
    "version": 3
   },
   "file_extension": ".py",
   "mimetype": "text/x-python",
   "name": "python",
   "nbconvert_exporter": "python",
   "pygments_lexer": "ipython3",
   "version": "3.7.9"
  },
  "orig_nbformat": 4,
  "vscode": {
   "interpreter": {
    "hash": "45a851a8e049304e8d8fc9276f397ed5699faa42a654317800ed71714fc34a6c"
   }
  }
 },
 "nbformat": 4,
 "nbformat_minor": 2
}
