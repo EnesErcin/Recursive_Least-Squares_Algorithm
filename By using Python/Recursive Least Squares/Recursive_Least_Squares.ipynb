{
 "cells": [
  {
   "cell_type": "code",
   "execution_count": 3,
   "metadata": {},
   "outputs": [],
   "source": [
    "import numpy as np\n",
    "import matplotlib.pylab as plt\n",
    "import math\n",
    "import pandas as pd\n",
    "import seaborn as sns\n",
    "sns.set()\n",
    "from matplotlib import rcParams\n",
    "rcParams['figure.figsize'] = 11.7,8.27"
   ]
  },
  {
   "cell_type": "code",
   "execution_count": 17,
   "metadata": {},
   "outputs": [],
   "source": [
    "class RLS_2:\n",
    "    def __init__(self, num_vars, lam, delta):\n",
    "        '''\n",
    "        num_vars: Degree of polinomial\n",
    "        lam: Forgetting factor, usually very close to 1\n",
    "        delta: Initation value -> ! Bad initation needs more itteration to reach same accuracy\n",
    "        '''\n",
    "        self.num_vars = num_vars\n",
    "        self.P = delta*np.matrix(np.identity(self.num_vars))\n",
    "\n",
    "        # Weigths/Coefficent of the system\n",
    "        self.w = np.matrix(np.zeros(self.num_vars))\n",
    "        self.w = self.w.reshape(self.w.shape[1],1)\n",
    "\n",
    "        # Kalman Gain Factor\n",
    "        self.g = np.matrix(np.zeros(num_vars))\n",
    "        self.g = np.reshape(self.g,(num_vars,1))\n",
    "        \n",
    "        # Variables needed for add_obs\n",
    "        self.lam_inv = lam**(-1)\n",
    "        \n",
    "        # A priori error\n",
    "        self.a_priori_error = 0\n",
    "        \n",
    "        # Count of number of observations added\n",
    "        self.num_obs = 0\n",
    "\n",
    "    def add_obs(self, x, t):\n",
    "        '''\n",
    "        Expected value is t, add the new observation as t.\n",
    "        t is noisy output of the some linear system. Input of the RLS.\n",
    "\n",
    "        Task is to identify a system, by determining coefficents,\n",
    "        that outputs a value which is closest to t.\n",
    "\n",
    "        x is a column vector as a numpy matrix  |   (new inputs to the system)\n",
    "        t is a real scalar                      |   (expected output to update weigths)\n",
    "        '''            \n",
    "\n",
    "        self.g = self.lam_inv*self.P*x/(1+self.lam_inv*(x.T*self.P*x))\n",
    "        self.P = self.P*self.lam_inv - self.g*(x.T*self.P)\n",
    "        self.w = self.w + self.g*(t-x.T*self.w)\n",
    "        self.num_obs += 1"
   ]
  },
  {
   "cell_type": "code",
   "execution_count": 61,
   "metadata": {},
   "outputs": [],
   "source": [
    "test_size = 1000\n",
    "# Test function\n",
    "f = lambda x: 0.07*x**4-1.9*x**3-7.9*x**2+13*x\n",
    "y = np.array([f(i) for i in range(test_size)])\n",
    "noise = np.random.normal(loc = 7, scale = 2 ,size = test_size)\n",
    "noisy_y = y + noise\n",
    "\n",
    "num_vars = 5\n",
    "lam = 0.98\n",
    "LS_2 = RLS_2(num_vars,lam,1)"
   ]
  },
  {
   "cell_type": "code",
   "execution_count": 71,
   "metadata": {},
   "outputs": [
    {
     "name": "stdout",
     "output_type": "stream",
     "text": [
      "Weigths at trail [4500]: [[ 3.31476855 13.04051374 -7.90016003 -1.89999973  0.07      ]]\n",
      "Weigths at trail [4525]: [[ 6.58757825 12.98246672 -7.89984812 -1.9000004   0.07      ]]\n",
      "Weigths at trail [4550]: [[ 6.19160918 13.01773333 -7.90008806 -1.89999984  0.07      ]]\n",
      "Weigths at trail [4575]: [[ 5.94218956 13.03853958 -7.90028022 -1.89999928  0.07      ]]\n",
      "Weigths at trail [4600]: [[ 6.06764407 13.04176314 -7.90045389 -1.89999855  0.07      ]]\n",
      "Weigths at trail [4625]: [[ 6.12835703 13.03866831 -7.90041958 -1.89999866  0.07      ]]\n",
      "Weigths at trail [4650]: [[ 6.32985443 13.02868699 -7.9003106  -1.899999    0.07      ]]\n",
      "Weigths at trail [4675]: [[ 6.69364267 13.01348334 -7.9001626  -1.89999944  0.07      ]]\n",
      "Weigths at trail [4700]: [[ 7.20337813 12.99639249 -7.90002887 -1.89999973  0.07      ]]\n",
      "Weigths at trail [4725]: [[ 7.73769264 12.97721952 -7.89986525 -1.90000017  0.07      ]]\n",
      "Weigths at trail [4750]: [[ 7.72806129 12.97109021 -7.89974586 -1.90000078  0.07      ]]\n",
      "Weigths at trail [4775]: [[ 7.22935017 12.99107889 -7.89995298 -1.90000002  0.07      ]]\n",
      "Weigths at trail [4800]: [[ 8.80745587 12.93302098 -7.89938694 -1.90000201  0.07      ]]\n",
      "Weigths at trail [4825]: [[ 6.51787233 13.00667562 -7.90003252 -1.89999993  0.07      ]]\n",
      "Weigths at trail [4850]: [[ 7.38603179 12.97957713 -7.89980129 -1.90000066  0.07      ]]\n",
      "Weigths at trail [4875]: [[ 7.2787351  12.97731479 -7.89974332 -1.90000097  0.07      ]]\n",
      "Weigths at trail [4900]: [[ 7.65263758 12.96871692 -7.89968869 -1.90000109  0.07      ]]\n",
      "Weigths at trail [4925]: [[ 9.96204967 12.90885795 -7.89923979 -1.90000238  0.07      ]]\n",
      "Weigths at trail [4950]: [[ 8.96063858 12.94156609 -7.89952473 -1.90000146  0.07      ]]\n",
      "Weigths at trail [4975]: [[-2.65652706 13.20518782 -7.90131011 -1.89999672  0.07      ]]\n"
     ]
    }
   ],
   "source": [
    "pred_x = []\n",
    "pred_y = []\n",
    "\n",
    "for i in range(500):\n",
    "    x = np.matrix(np.zeros((1,num_vars)))\n",
    "    for j in range(num_vars):\n",
    "        x[0,j] = i**j \n",
    "    pred_x.append(i)\n",
    "    pred_y.append(float(x*LS_2.w))\n",
    "    LS_2.add_obs(x.T,noisy_y[i])\n",
    "\n",
    "    if(i % 25 == 0):\n",
    "        print(\"Weigths at trail [{}]:\".format(LS_2.num_obs -1), LS_2.w.T)"
   ]
  },
  {
   "cell_type": "code",
   "execution_count": null,
   "metadata": {},
   "outputs": [],
   "source": []
  },
  {
   "cell_type": "code",
   "execution_count": null,
   "metadata": {},
   "outputs": [],
   "source": []
  }
 ],
 "metadata": {
  "kernelspec": {
   "display_name": "Python 3.7.9 64-bit (microsoft store)",
   "language": "python",
   "name": "python3"
  },
  "language_info": {
   "codemirror_mode": {
    "name": "ipython",
    "version": 3
   },
   "file_extension": ".py",
   "mimetype": "text/x-python",
   "name": "python",
   "nbconvert_exporter": "python",
   "pygments_lexer": "ipython3",
   "version": "3.7.9"
  },
  "orig_nbformat": 4,
  "vscode": {
   "interpreter": {
    "hash": "45a851a8e049304e8d8fc9276f397ed5699faa42a654317800ed71714fc34a6c"
   }
  }
 },
 "nbformat": 4,
 "nbformat_minor": 2
}
