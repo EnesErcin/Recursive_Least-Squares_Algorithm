{
 "cells": [
  {
   "cell_type": "code",
   "execution_count": 1,
   "metadata": {},
   "outputs": [],
   "source": [
    "import numpy as np\n",
    "import matplotlib.pylab as plt\n",
    "import math\n",
    "import pandas as pd\n",
    "import seaborn as sns\n",
    "sns.set()\n",
    "from matplotlib import rcParams\n",
    "rcParams['figure.figsize'] = 11.7,8.27"
   ]
  },
  {
   "cell_type": "code",
   "execution_count": 36,
   "metadata": {},
   "outputs": [],
   "source": [
    "class RLS_2:\n",
    "    def __init__(self, num_vars, lam, delta):\n",
    "        '''\n",
    "        num_vars: Degree of polinomial\n",
    "        lam: Forgetting factor, usually very close to 1\n",
    "        delta: Initation value -> ! Bad initation needs more itteration to reach same accuracy\n",
    "        '''\n",
    "        self.num_vars = num_vars\n",
    "        self.P = delta*np.matrix(np.identity(self.num_vars))\n",
    "\n",
    "        # Weigths/Coefficent of the system\n",
    "        self.w = np.matrix(np.zeros(self.num_vars))\n",
    "        self.w = self.w.reshape(self.w.shape[1],1)\n",
    "\n",
    "        # Kalman Gain Factor\n",
    "        self.g = np.matrix(np.zeros(num_vars))\n",
    "        self.g = np.reshape(self.g,(num_vars,1))\n",
    "        \n",
    "        # Variables needed for add_obs\n",
    "        self.lam_inv = lam**(-1)\n",
    "        \n",
    "        # A priori error\n",
    "        self.a_priori_error = 0\n",
    "        \n",
    "        # Count of number of observations added\n",
    "        self.num_obs = 0\n",
    "\n",
    "    def add_obs(self, x, t):\n",
    "        '''\n",
    "        Expected value is t, add the new observation as t.\n",
    "        t is noisy output of the some linear system. Input of the RLS.\n",
    "\n",
    "        Task is to identify a system, by determining coefficents,\n",
    "        that outputs a value which is closest to t.\n",
    "\n",
    "        x is a column vector as a numpy matrix  |   (new inputs to the system)\n",
    "        t is a real scalar                      |   (expected output to update weigths)\n",
    "        '''            \n",
    "\n",
    "        self.g = self.lam_inv*self.P*x/(1+self.lam_inv*(x.T*self.P*x))\n",
    "        self.P = self.P*self.lam_inv - self.g*(x.T*self.P)\n",
    "        self.w = self.w + self.g*(t-x.T*self.w)\n",
    "        self.num_obs += 1"
   ]
  },
  {
   "cell_type": "code",
   "execution_count": 79,
   "metadata": {},
   "outputs": [],
   "source": [
    "test_size = 1000\n",
    "# Test function\n",
    "f = lambda x: 0.07*x**3-1.9*x**2-7.9*x+13\n",
    "y = np.array([f(i) for i in range(test_size)])\n",
    "noise = np.random.randn(test_size)\n",
    "noisy_y = y + noise\n",
    "\n",
    "num_vars = 4\n",
    "lam = 0.98\n",
    "LS_2 = RLS_2(num_vars,lam,1)"
   ]
  },
  {
   "cell_type": "code",
   "execution_count": 80,
   "metadata": {},
   "outputs": [
    {
     "name": "stdout",
     "output_type": "stream",
     "text": [
      "Weigths at trail [0]: [[6.56565657 0.         0.         0.        ]]\n",
      "Weigths at trail [20]: [[ 7.62106299 -5.83938845 -2.1048661   0.0758774 ]]\n",
      "Weigths at trail [40]: [[ 9.3438164  -7.27051627 -1.9298864   0.0704192 ]]\n",
      "Weigths at trail [60]: [[10.33431478 -7.60553426 -1.90910851  0.07008394]]\n",
      "Weigths at trail [80]: [[10.97050614 -7.73665477 -1.90371865  0.07002537]]\n",
      "Weigths at trail [100]: [[11.40501376 -7.80006635 -1.9017874   0.07000963]]\n",
      "Weigths at trail [120]: [[11.7157714  -7.83472061 -1.90095576  0.07000424]]\n",
      "Weigths at trail [140]: [[11.94646653 -7.85529375 -1.90055122  0.07000207]]\n",
      "Weigths at trail [160]: [[12.1230334  -7.86827123 -1.9003364   0.07000109]]\n",
      "Weigths at trail [180]: [[12.26160939 -7.87684753 -1.90021449  0.07000061]]\n"
     ]
    }
   ],
   "source": [
    "pred_x = []\n",
    "pred_y = []\n",
    "\n",
    "for i in range(200):\n",
    "    x = np.matrix(np.zeros((1,num_vars)))\n",
    "    for j in range(num_vars):\n",
    "        x[0,j] = i**j \n",
    "    pred_x.append(i)\n",
    "    pred_y.append(float(x*LS_2.w))\n",
    "    LS_2.add_obs(x.T,y[i])\n",
    "\n",
    "    if(i % 20 == 0):\n",
    "        print(\"Weigths at trail [{}]:\".format(LS_2.num_obs -1), LS_2.w.T)"
   ]
  },
  {
   "cell_type": "code",
   "execution_count": null,
   "metadata": {},
   "outputs": [],
   "source": []
  },
  {
   "cell_type": "code",
   "execution_count": null,
   "metadata": {},
   "outputs": [],
   "source": []
  }
 ],
 "metadata": {
  "kernelspec": {
   "display_name": "Python 3.7.9 64-bit (microsoft store)",
   "language": "python",
   "name": "python3"
  },
  "language_info": {
   "codemirror_mode": {
    "name": "ipython",
    "version": 3
   },
   "file_extension": ".py",
   "mimetype": "text/x-python",
   "name": "python",
   "nbconvert_exporter": "python",
   "pygments_lexer": "ipython3",
   "version": "3.7.9"
  },
  "orig_nbformat": 4,
  "vscode": {
   "interpreter": {
    "hash": "45a851a8e049304e8d8fc9276f397ed5699faa42a654317800ed71714fc34a6c"
   }
  }
 },
 "nbformat": 4,
 "nbformat_minor": 2
}
