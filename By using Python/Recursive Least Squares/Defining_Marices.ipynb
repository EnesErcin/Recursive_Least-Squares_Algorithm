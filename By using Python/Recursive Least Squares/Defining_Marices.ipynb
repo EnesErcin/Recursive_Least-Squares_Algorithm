{
 "cells": [
  {
   "cell_type": "code",
   "execution_count": 1,
   "metadata": {},
   "outputs": [],
   "source": [
    "import numpy as np\n",
    "import pandas as pd"
   ]
  },
  {
   "cell_type": "code",
   "execution_count": 2,
   "metadata": {},
   "outputs": [],
   "source": [
    "slide_mes = 0\n",
    "slide_noise = 0\n",
    "mem_amount = 5"
   ]
  },
  {
   "cell_type": "code",
   "execution_count": 3,
   "metadata": {},
   "outputs": [],
   "source": [
    "u_future = np.random.normal(0,2,60)\n",
    "u = u_future[0 + slide_noise  : (slide_noise + mem_amount)]\n"
   ]
  },
  {
   "cell_type": "code",
   "execution_count": 4,
   "metadata": {},
   "outputs": [],
   "source": [
    "c = np.random.normal(0,10,mem_amount)\n",
    "h = np.ones(mem_amount)\n",
    "n_moment = np.random.normal(0,1,1)\n",
    "\n",
    "E = np.zeros(15)\n",
    "X = np.zeros(15)\n",
    "Y = np.zeros(15)"
   ]
  },
  {
   "cell_type": "code",
   "execution_count": 5,
   "metadata": {},
   "outputs": [],
   "source": [
    "def slide_measurements():\n",
    "    global slide_mes\n",
    "    slide_mes = slide_mes + 1\n",
    "    u = u_future[0 +slide_mes  : (slide_mes + mem_amount)]"
   ]
  },
  {
   "cell_type": "code",
   "execution_count": 6,
   "metadata": {},
   "outputs": [],
   "source": [
    "x = np.add(np.dot(u,h),float(n_moment))\n",
    "\n",
    "y = np.dot(h,x)\n",
    "e = y -x \n",
    "\n",
    "E = np.append(E, e)\n",
    "X = np.append(X,x)\n",
    "Y = np.append(Y,y)\n",
    "slide_measurements()"
   ]
  },
  {
   "cell_type": "code",
   "execution_count": 7,
   "metadata": {},
   "outputs": [],
   "source": [
    "full_measurments = np.arange(50)"
   ]
  },
  {
   "cell_type": "code",
   "execution_count": 8,
   "metadata": {},
   "outputs": [],
   "source": [
    "#Initate parameters and variables for test \n",
    "mem_size = 3\n",
    "time = 0\n",
    "measure = np.array(full_measurments[time:mem_size]) #Recent recorded measurments -- array size is same as memory size\n",
    "channels = np.array([1,2,4])\n",
    "h = np.ones(mem_size) # Estimation vector\n",
    "X_test = np.zeros(mem_size)\n",
    "Y_test = np.zeros(mem_size)\n",
    "E_test = np.zeros(mem_size)\n"
   ]
  },
  {
   "cell_type": "code",
   "execution_count": 9,
   "metadata": {},
   "outputs": [],
   "source": [
    "q_test = np.zeros(mem_size)\n",
    "forgetting_factor = 0.3\n",
    "p_test = np.zeros(1)\n",
    "P  = np.zeros(50)\n",
    "\n",
    "R_x_matrix = np.zeros((mem_size,mem_size))\n",
    "forgetting_factor_matrix =  np.array([(1 ,0, 0),(0, forgetting_factor, 0),(0, 0, forgetting_factor**2)])"
   ]
  },
  {
   "cell_type": "code",
   "execution_count": 10,
   "metadata": {},
   "outputs": [],
   "source": [
    "# Update the measurments\n",
    "def update_measurments():\n",
    "    global time ,measure\n",
    "    time = time + 1\n",
    "    measure = np.array(full_measurments[time:time+3])"
   ]
  },
  {
   "cell_type": "code",
   "execution_count": 11,
   "metadata": {},
   "outputs": [],
   "source": [
    "#Determine x and append to X\n",
    "\n",
    "x = np.convolve(channels,measure)\n",
    "assert(len(x) == len(measure) + len(channels)-1)\n",
    "# The above not neccesery for debug\n",
    "x  = np.convolve(channels,measure,\"valid\")\n",
    "assert(len(x) == 1) #To make any prediction the \"amount of measurements\" aquired must be at \"number of channels\".\n",
    "x = np.add(x,n_moment)\n",
    "\n",
    "#X_test array is filled as FILO\n",
    "X_test= np.insert(X_test,0,x)\n",
    "X_test= np.delete(X_test,(len(X_test)-1))"
   ]
  },
  {
   "cell_type": "code",
   "execution_count": 12,
   "metadata": {},
   "outputs": [],
   "source": [
    "#Determine y and e append to Y\n",
    "\n",
    "y = np.convolve(h,X_test,\"valid\")\n",
    "assert(len(y) == 1) #To make any prediction the \"amount of measurements\" aquired must be at \"number of channels\".\n",
    "\n",
    "#X_test array is filled as FILO\n",
    "Y_test= np.insert(Y_test,0,y)\n",
    "Y_test= np.delete(Y_test,(len(Y_test)-1))"
   ]
  },
  {
   "cell_type": "code",
   "execution_count": 13,
   "metadata": {},
   "outputs": [],
   "source": [
    "# Determine the error\n",
    "\n",
    "# Although the first estimation can be ready after some delay\n",
    "# the estimations are in real time \n",
    "# thus error can be determined as\n",
    "\n",
    "e = np.subtract(y,measure[2])\n",
    "assert(len(e) == 1)\n",
    "\n",
    "#X_test array is filled as FILO\n",
    "E_test= np.insert(E_test,0,e)\n",
    "E_test= np.delete(E_test,(len(E_test)-1))"
   ]
  },
  {
   "cell_type": "code",
   "execution_count": 29,
   "metadata": {},
   "outputs": [],
   "source": [
    "#Loading Q array for A_t representation\n",
    "q_test = X_test\n",
    "h = np.zeros(mem_size)      # Solution vector initation\n",
    "P = np.zeros((mem_size,mem_size))"
   ]
  },
  {
   "cell_type": "code",
   "execution_count": 30,
   "metadata": {},
   "outputs": [],
   "source": [
    "#Determining p array recursively\n",
    "\n",
    "def update_p():\n",
    "    global time,p_test,measure,q_test\n",
    "    if (time > mem_size):\n",
    "        p_test = forgetting_factor*p_test + np.matmul(np.transpose(q_test), measure)\n",
    "    elif(time == mem_size):\n",
    "        # First meanigful p is determined after num of recorded measurements are equal to num of memory\n",
    "        p_test =  np.matmul(np.transpose(q_test), measure)"
   ]
  },
  {
   "cell_type": "code",
   "execution_count": 31,
   "metadata": {},
   "outputs": [],
   "source": [
    "#Update the new p \n",
    "update_p()\n",
    "\n",
    "#Store the p for debug purposes\n",
    "P_store = np.append(P,p_test)"
   ]
  },
  {
   "cell_type": "code",
   "execution_count": 32,
   "metadata": {},
   "outputs": [],
   "source": [
    "#Function for determining R_x matrix recursively\n",
    "\n",
    "def update_R_x():\n",
    "    global time,measure,R_x_matrix,q_test\n",
    "    if (time > mem_size):\n",
    "        R_x_matrix = forgetting_factor*R_x_matrix + np.outer(np.transpose(q_test), q_test)\n",
    "    elif(time == mem_size):\n",
    "        # First meanigful R_x is determined after num of recorded measurements are equal to num of memory\n",
    "        R_x_matrix =  np.outer(np.transpose(q_test), q_test) * forgetting_factor_matrix"
   ]
  },
  {
   "cell_type": "code",
   "execution_count": 33,
   "metadata": {},
   "outputs": [],
   "source": [
    "# Update R_x matrix recursively\n",
    "update_R_x()"
   ]
  },
  {
   "cell_type": "code",
   "execution_count": 34,
   "metadata": {},
   "outputs": [],
   "source": [
    "# Althogh what we need is inverse of R_x and not R_x\n",
    "# Thankfully there is easier method to update inverse of R_x\n",
    "\n",
    "def update_P():\n",
    "    global time,measure,R_x_matrix,q_test,P,k\n",
    "\n",
    "    #Determing  Kalman Gain Factor\n",
    "    k = np.dot(P,q_test)/(forgetting_factor+ np.dot(np.dot(np.transpose(q_test),P),np.transpose(q_test)))\n",
    "    \n",
    "    if (time > mem_size):\n",
    "        # Sherman-Morrison formula for updating the inverse of R_x\n",
    "        P = (forgetting_factor**-1)*P -((forgetting_factor**-1)* np.dot(k,np.transpose(q_test))*P)\n",
    "    elif(time == mem_size):\n",
    "        # First meanigful P is determined after num of recorded measurements are equal to num of memory\n",
    "        P = np.linalg.inv(R_x_matrix)"
   ]
  },
  {
   "cell_type": "code",
   "execution_count": 35,
   "metadata": {},
   "outputs": [],
   "source": [
    "#Update P (Inverse of R_x)\n",
    "update_P()"
   ]
  },
  {
   "cell_type": "code",
   "execution_count": 37,
   "metadata": {},
   "outputs": [],
   "source": [
    "def update_solution():\n",
    "    global time,h,k,measure\n",
    "\n",
    "    if (time > mem_size):\n",
    "        h = h + k*(measure -np.transpose(q_test)*h) \n",
    "    elif(time == mem_size):\n",
    "        pass"
   ]
  },
  {
   "cell_type": "code",
   "execution_count": 38,
   "metadata": {},
   "outputs": [],
   "source": [
    "# Update the solution\n",
    "update_solution()"
   ]
  },
  {
   "cell_type": "code",
   "execution_count": null,
   "metadata": {},
   "outputs": [],
   "source": []
  },
  {
   "cell_type": "code",
   "execution_count": null,
   "metadata": {},
   "outputs": [],
   "source": []
  }
 ],
 "metadata": {
  "kernelspec": {
   "display_name": "Python 3.7.9 64-bit (microsoft store)",
   "language": "python",
   "name": "python3"
  },
  "language_info": {
   "codemirror_mode": {
    "name": "ipython",
    "version": 3
   },
   "file_extension": ".py",
   "mimetype": "text/x-python",
   "name": "python",
   "nbconvert_exporter": "python",
   "pygments_lexer": "ipython3",
   "version": "3.7.9"
  },
  "orig_nbformat": 4,
  "vscode": {
   "interpreter": {
    "hash": "45a851a8e049304e8d8fc9276f397ed5699faa42a654317800ed71714fc34a6c"
   }
  }
 },
 "nbformat": 4,
 "nbformat_minor": 2
}
