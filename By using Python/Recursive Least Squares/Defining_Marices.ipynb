{
 "cells": [
  {
   "cell_type": "code",
   "execution_count": 1,
   "metadata": {},
   "outputs": [],
   "source": [
    "import numpy as np\n",
    "import pandas as pd"
   ]
  },
  {
   "cell_type": "code",
   "execution_count": 2,
   "metadata": {},
   "outputs": [],
   "source": [
    "slide_mes = 0\n",
    "slide_noise = 0\n",
    "mem_amount = 5"
   ]
  },
  {
   "cell_type": "code",
   "execution_count": 3,
   "metadata": {},
   "outputs": [],
   "source": [
    "u_future = np.random.normal(0,2,60)\n",
    "u = u_future[0 + slide_noise  : (slide_noise + mem_amount)]\n"
   ]
  },
  {
   "cell_type": "code",
   "execution_count": 4,
   "metadata": {},
   "outputs": [],
   "source": [
    "c = np.random.normal(0,10,mem_amount)\n",
    "h = np.ones(mem_amount)\n",
    "n_moment = np.random.normal(0,1,1)\n",
    "\n",
    "E = np.zeros(15)\n",
    "X = np.zeros(15)\n",
    "Y = np.zeros(15)"
   ]
  },
  {
   "cell_type": "code",
   "execution_count": 5,
   "metadata": {},
   "outputs": [],
   "source": [
    "def slide_measurements():\n",
    "    global slide_mes\n",
    "    slide_mes = slide_mes + 1\n",
    "    u = u_future[0 +slide_mes  : (slide_mes + mem_amount)]"
   ]
  },
  {
   "cell_type": "code",
   "execution_count": 6,
   "metadata": {},
   "outputs": [],
   "source": [
    "full_measurments = np.arange(50)"
   ]
  },
  {
   "cell_type": "code",
   "execution_count": 7,
   "metadata": {},
   "outputs": [],
   "source": [
    "x = np.add(np.dot(u,h),float(n_moment))\n",
    "\n",
    "y = np.dot(h,x)\n",
    "e = y -x \n",
    "\n",
    "E = np.append(E, e)\n",
    "X = np.append(X,x)\n",
    "Y = np.append(Y,y)\n",
    "slide_measurements()"
   ]
  },
  {
   "cell_type": "code",
   "execution_count": 8,
   "metadata": {},
   "outputs": [],
   "source": [
    "#Initate parameters and variables for test \n",
    "mem_size = 3\n",
    "time = 0\n",
    "measure = np.array(full_measurments[time:mem_size]) #Recent recorded measurments -- array size is same as memory size\n",
    "channels = np.array(np.arange(mem_size) +1)\n",
    "h = np.ones(mem_size) # Estimation vector\n",
    "X_test = np.zeros(mem_size)\n",
    "Y_test = np.zeros(mem_size)\n",
    "E_test = np.zeros(mem_size)\n"
   ]
  },
  {
   "cell_type": "code",
   "execution_count": 9,
   "metadata": {},
   "outputs": [],
   "source": [
    "P  = np.zeros(50)\n",
    "\n",
    "forgetting_factor = 0.3\n",
    "q_test = np.zeros(mem_size)\n",
    "p_test = np.zeros(mem_size)                #Dimension is (1,mem)\n",
    "R_x_matrix = np.zeros((mem_size,mem_size)) #Dimension is (mem,mem)\n",
    "forgetting_factor_matrix =  np.array([(1 ,0, 0),(0, forgetting_factor, 0),(0, 0, forgetting_factor**2)])"
   ]
  },
  {
   "cell_type": "code",
   "execution_count": 10,
   "metadata": {},
   "outputs": [],
   "source": [
    "# Update the measurments\n",
    "def update_measurments():\n",
    "    global time ,measure\n",
    "    time = time + 1\n",
    "    measure = np.array(full_measurments[time:time+3])"
   ]
  },
  {
   "cell_type": "code",
   "execution_count": 11,
   "metadata": {},
   "outputs": [],
   "source": [
    "## >> Initiating signals\n",
    "#Determine x and append to X\n",
    "\n",
    "x = np.convolve(channels,measure)\n",
    "assert(len(x) == len(measure) + len(channels)-1)\n",
    "# The above not neccesery for debug\n",
    "x  = np.convolve(channels,measure,\"valid\")\n",
    "assert(len(x) == 1) #To make any prediction the \"amount of measurements\" aquired must be at \"number of channels\".\n",
    "x = np.add(x,n_moment)\n",
    "\n",
    "#q_test array is filled as FILO\n",
    "q_test= np.insert(q_test,0,x)\n",
    "q_test= np.delete(q_test,(len(q_test)-1))"
   ]
  },
  {
   "cell_type": "code",
   "execution_count": 12,
   "metadata": {},
   "outputs": [],
   "source": [
    "#Determine y and e append to Y\n",
    "\n",
    "y = np.convolve(h,X_test,\"valid\")\n",
    "assert(len(y) == 1) #To make any prediction the \"amount of measurements\" aquired must be at \"number of channels\".\n",
    "\n",
    "#X_test array is filled as FILO\n",
    "Y_test= np.insert(Y_test,0,y)\n",
    "Y_test= np.delete(Y_test,(len(Y_test)-1))"
   ]
  },
  {
   "cell_type": "code",
   "execution_count": 13,
   "metadata": {},
   "outputs": [],
   "source": [
    "# Determine the error\n",
    "\n",
    "# Although the first estimation can be ready after some delay\n",
    "# the estimations are in real time \n",
    "# thus error can be determined as\n",
    "\n",
    "e = np.subtract(measure[2],y)\n",
    "assert(len(e) == 1)\n",
    "\n",
    "#X_test array is filled as FILO\n",
    "E_test= np.insert(E_test,0,e)\n",
    "E_test= np.delete(E_test,(len(E_test)-1))"
   ]
  },
  {
   "cell_type": "code",
   "execution_count": 14,
   "metadata": {},
   "outputs": [],
   "source": [
    "#Loading Q array for A_t representation\n",
    "h = np.zeros(mem_size)      # Solution vector initation\n",
    "P = np.zeros((mem_size,mem_size))"
   ]
  },
  {
   "cell_type": "code",
   "execution_count": 15,
   "metadata": {},
   "outputs": [
    {
     "data": {
      "text/plain": [
       "array([4.90501044, 0.        , 0.        ])"
      ]
     },
     "execution_count": 15,
     "metadata": {},
     "output_type": "execute_result"
    }
   ],
   "source": [
    "q_test"
   ]
  },
  {
   "cell_type": "code",
   "execution_count": null,
   "metadata": {},
   "outputs": [],
   "source": [
    "measure[i]\n",
    "time"
   ]
  },
  {
   "cell_type": "code",
   "execution_count": null,
   "metadata": {},
   "outputs": [],
   "source": [
    "#Determining p array recursively\n",
    "\n",
    "def update_p():\n",
    "    global time,p_test,measure,q_test\n",
    "    assert(np.shape(p_test) == (3,)) # p_test is not correct shape\n",
    "    if (time > mem_size):\n",
    "        p_test = forgetting_factor*p_test + q_test*measure[2]\n",
    "    elif(time == mem_size):\n",
    "        # First meanigful p is determined after num of recorded measurements are equal to num of memory\n",
    "        for k in range (3):\n",
    "            p_test = np.zeros(mem_size)\n",
    "            p_test =  p_test + np.transpose(q_test)*measure[k]*forgetting_factor**k"
   ]
  },
  {
   "cell_type": "code",
   "execution_count": null,
   "metadata": {},
   "outputs": [],
   "source": [
    "#Update the new p \n",
    "update_p()\n",
    "\n",
    "#Store the p for debug purposes\n",
    "P_store = np.append(P,p_test)"
   ]
  },
  {
   "cell_type": "code",
   "execution_count": null,
   "metadata": {},
   "outputs": [],
   "source": [
    "#Function for determining R_x matrix recursively\n",
    "\n",
    "def update_R_x():\n",
    "    global time,measure,R_x_matrix,q_test\n",
    "    if (time > mem_size):\n",
    "        R_x_matrix = forgetting_factor*R_x_matrix + np.outer(np.transpose(q_test), q_test)\n",
    "    elif(time == mem_size):\n",
    "        # First meanigful R_x is determined after num of recorded measurements are equal to num of memory\n",
    "        R_x_matrix =  np.outer(np.transpose(q_test), q_test) * forgetting_factor_matrix"
   ]
  },
  {
   "cell_type": "code",
   "execution_count": null,
   "metadata": {},
   "outputs": [],
   "source": [
    "# Update R_x matrix recursively\n",
    "update_R_x()"
   ]
  },
  {
   "cell_type": "code",
   "execution_count": null,
   "metadata": {},
   "outputs": [],
   "source": [
    "# Althogh what we need is inverse of R_x and not R_x\n",
    "# Thankfully there is easier method to update inverse of R_x\n",
    "\n",
    "def update_P():\n",
    "    global time,measure,R_x_matrix,q_test,P,k\n",
    "    \n",
    "    if (time > mem_size):    \n",
    "        #Determing  Kalman Gain Factor\n",
    "        k = np.dot(P,q_test)/(forgetting_factor+ np.dot(np.dot(np.transpose(q_test),P),np.transpose(q_test)))\n",
    "        # Sherman-Morrison formula for updating the inverse of R_x\n",
    "        P = (forgetting_factor**-1)*P -((forgetting_factor**-1)* np.dot(k,np.transpose(q_test))*P)\n",
    "    elif(time == mem_size):\n",
    "        # First meanigful P is determined after num of recorded measurements are equal to num of memory\n",
    "        assert(np.linalg.det(R_x_matrix) == 0) \n",
    "        # Zero determinant matrix inversion not possible wait for another measurement\n",
    "        P = np.linalg.inv(R_x_matrix)"
   ]
  },
  {
   "cell_type": "code",
   "execution_count": null,
   "metadata": {},
   "outputs": [],
   "source": [
    "#Update P (Inverse of R_x)\n",
    "update_P()"
   ]
  },
  {
   "cell_type": "code",
   "execution_count": null,
   "metadata": {},
   "outputs": [],
   "source": [
    "def update_solution():\n",
    "    global time,h,k,measure\n",
    "\n",
    "    if (time > mem_size):\n",
    "        h = h + k*(measure -np.transpose(q_test)*h) \n",
    "    elif(time == mem_size):\n",
    "        pass"
   ]
  },
  {
   "cell_type": "code",
   "execution_count": null,
   "metadata": {},
   "outputs": [],
   "source": [
    "# Update the solution\n",
    "update_solution()"
   ]
  },
  {
   "cell_type": "code",
   "execution_count": 19,
   "metadata": {},
   "outputs": [],
   "source": [
    "class rls_algo:\n",
    "    def __init__(self,total_measurement,memory_size,forgetting_factor):\n",
    "        self.total_measurement = total_measurement\n",
    "        self.memory_size = memory_size\n",
    "        self.time = 0\n",
    "        self.measure = np.zeros(memory_size)\n",
    "        assert(forgetting_factor < 1) # forgetting factor should be 0<x<1\n",
    "        self.forgetting_factor = forgetting_factor\n",
    "        self.forgetting_factor_matrix = np.array([(1 ,0, 0),(0, forgetting_factor, 0),(0, 0, forgetting_factor**2)])\n",
    "\n",
    "        self.channels = np.linspace(1,0.2,memory_size) #Fading channel\n",
    "        self.h =  np.ones(mem_size)                    # Estimation vector\n",
    "\n",
    "        # Initiate neccesery matrices\n",
    "        self.q_test     = np.zeros(mem_size)            #Dimension is (,mem)\n",
    "        self.p_Test     = np.zeros(mem_size)            #Dimension is (,mem)\n",
    "        self_Rx_martrix = np.zeros((mem_size,mem_size)) #Dimension is (mem,mem)\n",
    "        self_P          = np.zeros((mem_size,mem_size)) #Dimension is (mem,mem)\n",
    "        self.k          = np.zeros(mem_size)            #Dimension is (,mem)\n",
    "\n",
    "        self.x = 0\n",
    "        self.y = 0\n",
    "\n",
    "    # Update the measurments\n",
    "    #####################################################\n",
    "    def update_measurments(self):\n",
    "        self.time = self.time + 1\n",
    "        self.measure = np.array(self.total_measurement[self.time:self.time+3])\n",
    "\n",
    "    #Generate x with new measurements\n",
    "    #####################################################\n",
    "    def generate_x(self):\n",
    "        self.x  = np.convolve(self.channels,self.measure,\"valid\")\n",
    "        assert(len(self.x) == 1) #To make any prediction the \"amount of measurements\" aquired must be at \"number of channels\".\n",
    "        n_moment = np.random.normal(0,1,1)\n",
    "        self.x = np.add(self.x,n_moment)\n",
    "\n",
    "        #q_test array is filled as FILO\n",
    "        self.q_test = np.insert( self.q_test ,0,self.x)\n",
    "        self.q_test = np.delete( self.q_test ,(len(self.q_test)-1))\n",
    "\n",
    "    #Generate y with x and previous estimates\n",
    "    #####################################################\n",
    "    def generate_y(self):\n",
    "        #Determine y and e append to Y\n",
    "        self.y = np.convolve(h,self.q_test,\"valid\")\n",
    "        assert(len(y) == 1) #To make any prediction the \"amount of measurements\" aquired must be at \"number of channels\".\n",
    "    \n",
    "    #Determine p array\n",
    "    #####################################################\n",
    "    def update_p(self):\n",
    "        assert(np.shape(self.p_test) == (3,)) # p_test is not correct shape\n",
    "        if (self.time > self.mem_size):\n",
    "            self.p_test = self.forgetting_factor*self.p_test + self.q_test*self.measure[2]\n",
    "        elif(self.time == self.mem_size):\n",
    "            # First meanigful p is determined after num of recorded measurements are equal to num of memory\n",
    "            for k in range (self.mem_size):\n",
    "                self.p_test =  np.zeros(self.mem_size)\n",
    "                self.p_test =  self.p_test + np.transpose(self.q_test)*self.measure[k]*self.forgetting_factor**self.k\n",
    "\n",
    "    #Function for determining R_x matrix recursively\n",
    "    #####################################################\n",
    "    def update_R_x(self):\n",
    "        if (self.time > self.mem_size):\n",
    "            self.R_x_matrix = self.forgetting_factor*self.R_x_matrix + np.outer(np.transpose(self.q_test), self.q_test)\n",
    "        elif(self.time == self.mem_size):\n",
    "            # First meanigful R_x is determined after num of recorded measurements are equal to num of memory\n",
    "            self.R_x_matrix =  np.outer(np.transpose(self.q_test), self.q_test) * self.forgetting_factor_matrix\n",
    "\n",
    "    #Function for updating { P  == inverse of R_x } recursively\n",
    "    #####################################################\n",
    "    def update_P(self):\n",
    "        if (self.time > self.mem_size):    \n",
    "            #Determing  Kalman Gain Factor\n",
    "            self.k = np.dot(self.P,self.q_test)/(self.forgetting_factor+ np.dot(np.dot(np.transpose(self.q_test),self.P),np.transpose(self.q_test)))\n",
    "            # Sherman-Morrison formula for updating the inverse of R_x\n",
    "            self.P = (self.forgetting_factor**-1)*self.P -((self.forgetting_factor**-1)* np.dot(self.k,np.transpose(self.q_test))*self.P)\n",
    "        elif(self.time == self.mem_size):\n",
    "            # First meanigful P is determined after num of recorded measurements are equal to num of memory\n",
    "            assert(np.linalg.det(self.R_x_matrix) == 0) \n",
    "            # Zero determinant matrix inversion not possible wait for another measurement\n",
    "            self.P = np.linalg.inv(self.R_x_matrix)\n",
    "\n",
    "    #Function for updating {-- The Estimate --} recursively\n",
    "    #####################################################\n",
    "    def update_solution(self):\n",
    "        if (self.time > self.mem_size):\n",
    "            self.h = self.h + self.k*(self.measure -np.transpose(self.q_test)*self.h) \n",
    "        elif(self.time == self.mem_size):\n",
    "            pass\n",
    "\n",
    "\n",
    "    #  Reset variables\n",
    "    #####################################################\n",
    "    def reset_timer(self):\n",
    "        self.time    = 0\n",
    "        self.measure = np.zeros(self.memory_size)\n",
    "        self.x = 0\n",
    "        self.y = 0\n",
    "        self.q_test     = np.zeros(mem_size)            \n",
    "        self.p_Test     = np.zeros(mem_size)     \n",
    "        self_Rx_martrix = np.zeros((mem_size,mem_size)) #Dimension is (mem,mem)\n",
    "        self.k          = np.zeros(mem_size)            #Dimension is (,mem)       \n",
    "        self_P          = np.zeros((mem_size,mem_size)) #Dimension is (mem,mem)\n",
    "\n",
    "        "
   ]
  },
  {
   "cell_type": "code",
   "execution_count": 20,
   "metadata": {},
   "outputs": [],
   "source": [
    "My_algo = rls_algo(total_measurement = np.arange(20), memory_size=3,forgetting_factor=0.03 )"
   ]
  },
  {
   "cell_type": "code",
   "execution_count": 21,
   "metadata": {},
   "outputs": [
    {
     "name": "stdout",
     "output_type": "stream",
     "text": [
      "New noisy input 0\n",
      "Noisy Measurments in memory [0. 0. 0.]\n",
      "Uncorropted measurments in memory->  [0. 0. 0.]\n",
      "New y->  0\n",
      "New noisy input [5.11652175]\n",
      "Noisy Measurments in memory [5.11652175 0.         0.        ]\n",
      "Uncorropted measurments in memory->  [1 2 3]\n",
      "New y->  [0.]\n",
      "New noisy input [6.04147139]\n",
      "Noisy Measurments in memory [6.04147139 5.11652175 0.        ]\n",
      "Uncorropted measurments in memory->  [2 3 4]\n",
      "New y->  [0.]\n",
      "New noisy input [7.79603597]\n",
      "Noisy Measurments in memory [7.79603597 6.04147139 5.11652175]\n",
      "Uncorropted measurments in memory->  [3 4 5]\n",
      "New y->  [0.]\n",
      "New noisy input [10.88568377]\n",
      "Noisy Measurments in memory [10.88568377  7.79603597  6.04147139]\n",
      "Uncorropted measurments in memory->  [4 5 6]\n",
      "New y->  [0.]\n"
     ]
    }
   ],
   "source": [
    "My_algo.reset_timer()\n",
    "\n",
    "for i in range(5):\n",
    "    print(\"New noisy input\",My_algo.x)\n",
    "    print(\"Noisy Measurments in memory\", My_algo.q_test)\n",
    "    print(\"Uncorropted measurments in memory-> \", My_algo.measure)\n",
    "    print(\"New y-> \", My_algo.y)\n",
    "    My_algo.update_measurments()\n",
    "    My_algo.generate_x()\n",
    "    My_algo.generate_y()"
   ]
  },
  {
   "cell_type": "code",
   "execution_count": 22,
   "metadata": {},
   "outputs": [],
   "source": [
    "My_algo.generate_y()"
   ]
  },
  {
   "cell_type": "code",
   "execution_count": null,
   "metadata": {},
   "outputs": [
    {
     "data": {
      "text/plain": [
       "array([0.])"
      ]
     },
     "execution_count": 293,
     "metadata": {},
     "output_type": "execute_result"
    }
   ],
   "source": [
    "My_algo.y"
   ]
  }
 ],
 "metadata": {
  "kernelspec": {
   "display_name": "Python 3.7.9 64-bit (microsoft store)",
   "language": "python",
   "name": "python3"
  },
  "language_info": {
   "codemirror_mode": {
    "name": "ipython",
    "version": 3
   },
   "file_extension": ".py",
   "mimetype": "text/x-python",
   "name": "python",
   "nbconvert_exporter": "python",
   "pygments_lexer": "ipython3",
   "version": "3.7.9"
  },
  "orig_nbformat": 4,
  "vscode": {
   "interpreter": {
    "hash": "45a851a8e049304e8d8fc9276f397ed5699faa42a654317800ed71714fc34a6c"
   }
  }
 },
 "nbformat": 4,
 "nbformat_minor": 2
}
