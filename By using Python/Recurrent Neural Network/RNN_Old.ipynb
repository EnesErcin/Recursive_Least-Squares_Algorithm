{
 "cells": [
  {
   "cell_type": "code",
   "execution_count": 118,
   "metadata": {},
   "outputs": [],
   "source": [
    "import numpy as np\n",
    "import pandas as pd\n",
    "import Data as df"
   ]
  },
  {
   "cell_type": "code",
   "execution_count": 2,
   "metadata": {},
   "outputs": [
    {
     "name": "stdout",
     "output_type": "stream",
     "text": [
      "@,*,matmul,outer\n",
      "Expected shape --> (4, 4)\n",
      "(1, 4)\n",
      "(1, 4)\n",
      "(2, 8)\n",
      "kal [[1. 1. 1. 1.]\n",
      " [1. 1. 1. 1.]] \n",
      " X [[1 2]] \n",
      " kal*x [[3. 3. 3. 3.]]\n"
     ]
    }
   ],
   "source": [
    "input_len = 2\n",
    "hidden_layer = 4\n",
    "\n",
    "kal = np.ones((input_len,hidden_layer))\n",
    "x = np.array([[1,2]])\n",
    "\n",
    "print(\"@,*,matmul,outer\")\n",
    "print(\"Expected shape -->\", (hidden_layer,hidden_layer))\n",
    "print(np.shape(x@kal))\n",
    "print(np.shape(np.matmul(x,kal)))\n",
    "print(np.shape(np.outer(x,kal)))\n",
    "\n",
    "print(\"kal\", kal, \"\\n X\", x , \"\\n kal*x\", x@kal)"
   ]
  },
  {
   "cell_type": "code",
   "execution_count": null,
   "metadata": {},
   "outputs": [],
   "source": []
  },
  {
   "cell_type": "code",
   "execution_count": null,
   "metadata": {},
   "outputs": [],
   "source": []
  },
  {
   "cell_type": "code",
   "execution_count": null,
   "metadata": {},
   "outputs": [],
   "source": []
  },
  {
   "cell_type": "code",
   "execution_count": 21,
   "metadata": {},
   "outputs": [
    {
     "data": {
      "text/plain": [
       "array([[ 0.24185207, -0.07738701,  0.74592264,  1.27135676],\n",
       "       [-0.39983886,  0.99811923, -0.51398913, -0.44489523]])"
      ]
     },
     "execution_count": 21,
     "metadata": {},
     "output_type": "execute_result"
    }
   ],
   "source": [
    "np.random.randn(2,4)"
   ]
  },
  {
   "cell_type": "code",
   "execution_count": 123,
   "metadata": {},
   "outputs": [],
   "source": [
    "# 2nd \n",
    "\n",
    "class RNN:\n",
    "    def __init__(self,vocab_len,output_len,hidden_size =15):\n",
    "        self.Wya = np.random.randn(output_len,hidden_size)/1000\n",
    "        self.Wax = np.random.randn(hidden_size,vocab_len)/1000\n",
    "        self.Waa = np.random.randn(hidden_size,hidden_size)/1000\n",
    "\n",
    "        self.by = np.zeros((output_len,1))\n",
    "        self.ba = np.zeros((hidden_size,1))\n",
    "        \n",
    "        \n",
    "    def forward_prop(self,sentences):\n",
    "        \n",
    "        self.last_as = [0]*len(sentences)\n",
    "        a =  np.zeros((self.Waa.shape[0], 1))\n",
    "        self.last_as = { 0: a }\n",
    "        self.last_sentences = sentences\n",
    "\n",
    "        for i ,x in enumerate(sentences):\n",
    "            #print(\"---self.Wax*x--\",np.shape(np.matmul(self.Wax,x)))\n",
    "            a = np.tanh(np.matmul(self.Wax,x) + np.matmul(self.Waa,a) + self.ba)\n",
    "            # Store the a for backprop\n",
    "            self.last_as[i+1] = a \n",
    "\n",
    "        \n",
    "        #Store the inputs for backprop\n",
    "\n",
    "        y = np.matmul(self.Wya,a) + self.by\n",
    "        \n",
    "        return y, a\n",
    "\n",
    "\n",
    "    def back_prop(self,dL_dy,learning_rate = 0.005):\n",
    "        dWya =  np.zeros(self.Wya.shape)\n",
    "        dWax =  np.zeros(self.Wax.shape)\n",
    "        dWaa =  np.zeros(self.Waa.shape)\n",
    "        dby  =  np.zeros(self.by.shape)\n",
    "        dba  =  np.zeros(self.ba.shape)\n",
    "\n",
    "        n = len(self.last_sentences)\n",
    "        dWya = np.matmul(dL_dy,self.last_as[n].T)\n",
    "        dby = dL_dy\n",
    "        \n",
    "        temp = 1\n",
    "        dh = np.matmul(self.Wya.T,dL_dy)\n",
    "        \n",
    "        for i in reversed(range(n)):\n",
    "            temp =((1 - self.last_as[i + 1] ** 2))\n",
    "            temp = temp*dh\n",
    "            dWaa += temp @ self.last_as[i].T\n",
    "            dWax += np.matmul(temp,self.last_sentences[i].T)\n",
    "\n",
    "            dba  += temp\n",
    "            dh = np.matmul(self.Waa.T,temp)\n",
    "        \n",
    "        #   Exploding and Vanishing Gradient problem \n",
    "        #   Work around the solution\n",
    "        for d in [dWax, dWaa, dWya, dba, dby]:\n",
    "            np.clip(d, -1, 1, out=d)\n",
    "\n",
    "        self.Wax = self.Wax  - learning_rate*dWax\n",
    "        self.Waa = self.Waa  - learning_rate*dWaa\n",
    "        self.Wya = self.Wya  - learning_rate*dWya\n",
    "\n",
    "        self.by =  self.by -learning_rate*dby\n",
    "        self.ba =  self.ba -learning_rate*dba "
   ]
  },
  {
   "cell_type": "code",
   "execution_count": 124,
   "metadata": {},
   "outputs": [],
   "source": [
    "df.vocab_size = len(df.word_to_idx)\n",
    "rnn = RNN(df.vocab_size, 1)"
   ]
  },
  {
   "cell_type": "code",
   "execution_count": 125,
   "metadata": {},
   "outputs": [],
   "source": [
    "def softmax(xs):\n",
    "  # Applies the Softmax Function to the input array.\n",
    "  return np.exp(xs) / sum(np.exp(xs))"
   ]
  },
  {
   "cell_type": "code",
   "execution_count": 126,
   "metadata": {},
   "outputs": [
    {
     "name": "stdout",
     "output_type": "stream",
     "text": [
      "--- Epoch 100\n",
      "Train:\tLoss 0.689 | Accuracy: 0.552\n",
      "Test:\tLoss 0.699 | Accuracy: 0.500\n",
      "--- Epoch 200\n",
      "Train:\tLoss 0.689 | Accuracy: 0.552\n",
      "Test:\tLoss 0.698 | Accuracy: 0.500\n",
      "--- Epoch 300\n",
      "Train:\tLoss 0.688 | Accuracy: 0.552\n",
      "Test:\tLoss 0.698 | Accuracy: 0.500\n",
      "--- Epoch 400\n",
      "Train:\tLoss 0.685 | Accuracy: 0.552\n",
      "Test:\tLoss 0.697 | Accuracy: 0.500\n",
      "--- Epoch 500\n",
      "Train:\tLoss 0.678 | Accuracy: 0.569\n",
      "Test:\tLoss 0.701 | Accuracy: 0.500\n",
      "--- Epoch 600\n",
      "Train:\tLoss 0.670 | Accuracy: 0.569\n",
      "Test:\tLoss 0.718 | Accuracy: 0.450\n",
      "--- Epoch 700\n",
      "Train:\tLoss 0.564 | Accuracy: 0.828\n",
      "Test:\tLoss 0.661 | Accuracy: 0.700\n",
      "--- Epoch 800\n",
      "Train:\tLoss 0.349 | Accuracy: 0.879\n",
      "Test:\tLoss 0.449 | Accuracy: 0.800\n",
      "--- Epoch 900\n",
      "Train:\tLoss 0.169 | Accuracy: 0.966\n",
      "Test:\tLoss 0.268 | Accuracy: 0.950\n",
      "--- Epoch 1000\n",
      "Train:\tLoss 0.075 | Accuracy: 0.983\n",
      "Test:\tLoss 0.122 | Accuracy: 0.950\n"
     ]
    }
   ],
   "source": [
    "# Initialize our RNN!\n",
    "\n",
    "rnn = RNN(df.vocab_size, 2)\n",
    "\n",
    "def processData(data, backprop=True):\n",
    "  '''\n",
    "  Returns the RNN's loss and accuracy for the given data.\n",
    "  - data is a dictionary mapping text to True or False.\n",
    "  - backprop determines if the backward phase should be run.\n",
    "  '''\n",
    "  items = list(data.items())\n",
    "  np.random.shuffle(items)\n",
    "\n",
    "  loss = 0\n",
    "  num_correct = 0\n",
    "  i = 0\n",
    "  for x, y in items:\n",
    "    inputs = df.createInputs(x)    \n",
    "    i = i +1\n",
    "    #print(i,x)\n",
    "    target = int(y)\n",
    "\n",
    "    # Forward\n",
    "    out, _ = rnn.forward_prop(inputs)\n",
    "    probs = softmax(out)\n",
    "    # Calculate loss / accuracy\n",
    "    loss -= np.log(probs[target])\n",
    "\n",
    "    #If Classification\n",
    "    num_correct += int(np.argmax(probs) == target)\n",
    "\n",
    "    #If regression\n",
    "\n",
    "    if backprop:\n",
    "        # Build dL/dy\n",
    "        d_L_d_y = probs\n",
    "        #print(\"Input >>>>\",inputs,\"Targets >>>>\" ,target, \"Probs >>>>\",probs)\n",
    "        d_L_d_y[target] -= 1\n",
    "        #Softmax derivative\n",
    "\n",
    "        # Backward\n",
    "        #print(\"???\",d_L_d_y)\n",
    "        rnn.back_prop(d_L_d_y)\n",
    "\n",
    "  return loss / len(data),   num_correct / len(data)\n",
    "\n",
    "# Training loop\n",
    "for epoch in range(1000):\n",
    "  train_loss, train_acc = processData(df.train_data)\n",
    "\n",
    "  if epoch % 100 == 99:\n",
    "    print('--- Epoch %d' % (epoch + 1))\n",
    "    print('Train:\\tLoss %.3f | Accuracy: %.3f' % (train_loss, train_acc))\n",
    "\n",
    "    test_loss, test_acc = processData(df.test_data, backprop=False)\n",
    "    print('Test:\\tLoss %.3f | Accuracy: %.3f' % (test_loss, test_acc))"
   ]
  },
  {
   "cell_type": "code",
   "execution_count": null,
   "metadata": {},
   "outputs": [],
   "source": []
  },
  {
   "cell_type": "code",
   "execution_count": null,
   "metadata": {},
   "outputs": [],
   "source": []
  },
  {
   "cell_type": "code",
   "execution_count": null,
   "metadata": {},
   "outputs": [],
   "source": [
    "def linear(xs):\n",
    "  # Applies the Softmax Function to the input array.\n",
    "  return xs"
   ]
  },
  {
   "cell_type": "code",
   "execution_count": null,
   "metadata": {},
   "outputs": [],
   "source": []
  },
  {
   "cell_type": "code",
   "execution_count": null,
   "metadata": {},
   "outputs": [],
   "source": []
  },
  {
   "cell_type": "code",
   "execution_count": null,
   "metadata": {},
   "outputs": [],
   "source": []
  },
  {
   "cell_type": "code",
   "execution_count": null,
   "metadata": {},
   "outputs": [],
   "source": []
  },
  {
   "cell_type": "code",
   "execution_count": 97,
   "metadata": {},
   "outputs": [],
   "source": [
    "# 2nd \n",
    "\n",
    "class RNN:\n",
    "    def __init__(self,vocab_len,output_len,hidden_size =15):\n",
    "        self.Wya = np.random.randn(output_len,hidden_size)/1000\n",
    "        self.Wax = np.random.randn(hidden_size,vocab_len)/1000\n",
    "        self.Waa = np.random.randn(hidden_size,hidden_size)/1000\n",
    "\n",
    "        self.by = np.zeros((output_len,1))\n",
    "        self.ba = np.zeros((hidden_size,1))\n",
    "        \n",
    "        \n",
    "    def forward_prop(self,sentences):\n",
    "       \n",
    "        self.last_as = [0]*len(sentences)\n",
    "        a =  np.zeros((self.Waa.shape[0], 1))\n",
    "        self.last_as = { 0: a }\n",
    "        self.last_sentences = sentences\n",
    "\n",
    "        for i ,x in enumerate(sentences):\n",
    "            # x value of the input\n",
    "            # i sequance of the input\n",
    "\n",
    "            #print(\"**** sentences\",sentences)\n",
    "            #print(\"i\",i,\"x\",x, \"x ttype\", type(x))\n",
    "            #print(\"Wax || \",np.shape(self.Wax),\"  x\",np.shape(x))\n",
    "            ##print(\"------\",np.shape((x@self.Wax)))\n",
    "            #print(\"------\",np.shape(self.Wax@x)),np.shape(x)\n",
    "            #print(\"@@@@@ ---> \",np.shape(self.Wax),np.shape(x))\n",
    "            #print(\"matmul ---->\" )\n",
    "            #print(\"***** ---> \",self.Wax*x)\n",
    "            a = np.tanh(self.Wax*x + np.matmul(self.Waa,a) + self.ba)\n",
    "            # Store the a for backprop\n",
    "            self.last_as[i+1] = a \n",
    "\n",
    "        \n",
    "        #Store the inputs for backprop\n",
    "\n",
    "        y = np.matmul(self.Wya,a) + self.by\n",
    "        \n",
    "        \n",
    "        return y, a\n",
    "\n",
    "\n",
    "    def back_prop(self,dL_dy,learning_rate = 0.005):\n",
    "        dWya =  np.zeros(self.Wya.shape)\n",
    "        dWax =  np.zeros(self.Wax.shape)\n",
    "        dWaa =  np.zeros(self.Waa.shape)\n",
    "        dby  =  np.zeros(self.by.shape)\n",
    "        dba  =  np.zeros(self.ba.shape)\n",
    "\n",
    "        n = len(self.last_sentences)\n",
    "        #print(np.shape(dL_dy[0]),np.shape(self.last_as[n].T))\n",
    "        \n",
    "        print(\"Last Inputs x -->\", self.last_as[0].T)\n",
    "        dWya = dL_dy[0]*self.last_as[n].T\n",
    "        dby = dL_dy\n",
    "        \n",
    "        temp = 1\n",
    "        dh = np.matmul(self.Wya.T,dL_dy)\n",
    "        \n",
    "        for i in reversed(range(n)):\n",
    "            temp =((1 - self.last_as[i + 1] ** 2))\n",
    "\n",
    "            temp = temp*dh\n",
    "            print(\"Temp Shape --->\",np.shape(temp))\n",
    "            print(\"last sentences --->\",np.shape(self.last_sentences.T))\n",
    "            print(\"last sentences --->\",self.last_sentences[i].T)\n",
    "            dWaa += temp * self.last_as[i].T\n",
    "            dWax += np.matmul(temp,self.last_sentences[i].T)\n",
    "\n",
    "            dba  += temp\n",
    "            dh = np.matmul(self.Waa.T,temp)\n",
    "        \n",
    "        #   Exploding and Vanishing Gradient problem \n",
    "        #   Work around the solution\n",
    "        for d in [dWax, dWaa, dWya, dba, dby]:\n",
    "            np.clip(d, -1, 1, out=d)\n",
    "\n",
    "        self.Wax = self.Wax  - learning_rate*dWax\n",
    "        self.Waa = self.Waa  - learning_rate*dWaa\n",
    "        self.Wya = self.Wya  - learning_rate*dWya\n",
    "\n",
    "        self.by =  self.by -learning_rate*dby\n",
    "        self.ba =  self.ba -learning_rate*dba "
   ]
  },
  {
   "cell_type": "code",
   "execution_count": 58,
   "metadata": {},
   "outputs": [],
   "source": [
    "def linear(xs):\n",
    "  # Applies the Softmax Function to the input array.\n",
    "  return xs"
   ]
  },
  {
   "cell_type": "code",
   "execution_count": 98,
   "metadata": {},
   "outputs": [
    {
     "name": "stdout",
     "output_type": "stream",
     "text": [
      "selfas --> {0: array([[0.],\n",
      "       [0.],\n",
      "       [0.],\n",
      "       [0.],\n",
      "       [0.],\n",
      "       [0.],\n",
      "       [0.],\n",
      "       [0.],\n",
      "       [0.],\n",
      "       [0.],\n",
      "       [0.],\n",
      "       [0.],\n",
      "       [0.],\n",
      "       [0.],\n",
      "       [0.]]), 1: array([[0.],\n",
      "       [0.],\n",
      "       [0.],\n",
      "       [0.],\n",
      "       [0.],\n",
      "       [0.],\n",
      "       [0.],\n",
      "       [0.],\n",
      "       [0.],\n",
      "       [0.],\n",
      "       [0.],\n",
      "       [0.],\n",
      "       [0.],\n",
      "       [0.],\n",
      "       [0.]]), 2: array([[0.],\n",
      "       [0.],\n",
      "       [0.],\n",
      "       [0.],\n",
      "       [0.],\n",
      "       [0.],\n",
      "       [0.],\n",
      "       [0.],\n",
      "       [0.],\n",
      "       [0.],\n",
      "       [0.],\n",
      "       [0.],\n",
      "       [0.],\n",
      "       [0.],\n",
      "       [0.]]), 3: array([[0.],\n",
      "       [0.],\n",
      "       [0.],\n",
      "       [0.],\n",
      "       [0.],\n",
      "       [0.],\n",
      "       [0.],\n",
      "       [0.],\n",
      "       [0.],\n",
      "       [0.],\n",
      "       [0.],\n",
      "       [0.],\n",
      "       [0.],\n",
      "       [0.],\n",
      "       [0.]]), 4: array([[0.],\n",
      "       [0.],\n",
      "       [0.],\n",
      "       [0.],\n",
      "       [0.],\n",
      "       [0.],\n",
      "       [0.],\n",
      "       [0.],\n",
      "       [0.],\n",
      "       [0.],\n",
      "       [0.],\n",
      "       [0.],\n",
      "       [0.],\n",
      "       [0.],\n",
      "       [0.]])}\n",
      "temp ---> (15, 15)\n",
      "last sentences ---> (4,)\n",
      "last sentences ---> 0.0\n"
     ]
    },
    {
     "ename": "ValueError",
     "evalue": "matmul: Input operand 1 does not have enough dimensions (has 0, gufunc core with signature (n?,k),(k,m?)->(n?,m?) requires 1)",
     "output_type": "error",
     "traceback": [
      "\u001b[1;31m---------------------------------------------------------------------------\u001b[0m",
      "\u001b[1;31mValueError\u001b[0m                                Traceback (most recent call last)",
      "\u001b[1;32m~\\AppData\\Local\\Temp\\ipykernel_13160\\2022538403.py\u001b[0m in \u001b[0;36m<module>\u001b[1;34m\u001b[0m\n\u001b[0;32m     40\u001b[0m \u001b[1;31m# Training loop\u001b[0m\u001b[1;33m\u001b[0m\u001b[1;33m\u001b[0m\u001b[1;33m\u001b[0m\u001b[0m\n\u001b[0;32m     41\u001b[0m \u001b[1;32mfor\u001b[0m \u001b[0mepoch\u001b[0m \u001b[1;32min\u001b[0m \u001b[0mrange\u001b[0m\u001b[1;33m(\u001b[0m\u001b[1;36m1000\u001b[0m\u001b[1;33m)\u001b[0m\u001b[1;33m:\u001b[0m\u001b[1;33m\u001b[0m\u001b[1;33m\u001b[0m\u001b[0m\n\u001b[1;32m---> 42\u001b[1;33m   \u001b[0mtrain_loss\u001b[0m\u001b[1;33m,\u001b[0m \u001b[0mtrain_acc\u001b[0m \u001b[1;33m=\u001b[0m \u001b[0mprocessData\u001b[0m\u001b[1;33m(\u001b[0m\u001b[0mdata\u001b[0m \u001b[1;33m=\u001b[0m \u001b[0mevery_input\u001b[0m\u001b[1;33m,\u001b[0m \u001b[0mrefernce\u001b[0m\u001b[1;33m=\u001b[0m\u001b[0mRX_Q_to_train\u001b[0m \u001b[1;33m)\u001b[0m\u001b[1;33m\u001b[0m\u001b[1;33m\u001b[0m\u001b[0m\n\u001b[0m\u001b[0;32m     43\u001b[0m \u001b[1;33m\u001b[0m\u001b[0m\n\u001b[0;32m     44\u001b[0m   \u001b[1;32mif\u001b[0m \u001b[0mepoch\u001b[0m \u001b[1;33m%\u001b[0m \u001b[1;36m100\u001b[0m \u001b[1;33m==\u001b[0m \u001b[1;36m99\u001b[0m\u001b[1;33m:\u001b[0m\u001b[1;33m\u001b[0m\u001b[1;33m\u001b[0m\u001b[0m\n",
      "\u001b[1;32m~\\AppData\\Local\\Temp\\ipykernel_13160\\2022538403.py\u001b[0m in \u001b[0;36mprocessData\u001b[1;34m(data, refernce, backprop)\u001b[0m\n\u001b[0;32m     34\u001b[0m \u001b[1;33m\u001b[0m\u001b[0m\n\u001b[0;32m     35\u001b[0m         \u001b[1;31m# Backward\u001b[0m\u001b[1;33m\u001b[0m\u001b[1;33m\u001b[0m\u001b[1;33m\u001b[0m\u001b[0m\n\u001b[1;32m---> 36\u001b[1;33m         \u001b[0mrnn\u001b[0m\u001b[1;33m.\u001b[0m\u001b[0mback_prop\u001b[0m\u001b[1;33m(\u001b[0m\u001b[0md_L_d_y\u001b[0m\u001b[1;33m[\u001b[0m\u001b[1;36m0\u001b[0m\u001b[1;33m]\u001b[0m\u001b[1;33m)\u001b[0m\u001b[1;33m\u001b[0m\u001b[1;33m\u001b[0m\u001b[0m\n\u001b[0m\u001b[0;32m     37\u001b[0m \u001b[1;33m\u001b[0m\u001b[0m\n\u001b[0;32m     38\u001b[0m   \u001b[1;32mreturn\u001b[0m \u001b[0mloss\u001b[0m \u001b[1;33m/\u001b[0m \u001b[0mlen\u001b[0m\u001b[1;33m(\u001b[0m\u001b[0mdata\u001b[0m\u001b[1;33m)\u001b[0m\u001b[1;33m,\u001b[0m   \u001b[0mnum_correct\u001b[0m \u001b[1;33m/\u001b[0m \u001b[0mlen\u001b[0m\u001b[1;33m(\u001b[0m\u001b[0mdata\u001b[0m\u001b[1;33m)\u001b[0m\u001b[1;33m\u001b[0m\u001b[1;33m\u001b[0m\u001b[0m\n",
      "\u001b[1;32m~\\AppData\\Local\\Temp\\ipykernel_13160\\3719236317.py\u001b[0m in \u001b[0;36mback_prop\u001b[1;34m(self, dL_dy, learning_rate)\u001b[0m\n\u001b[0;32m     68\u001b[0m             \u001b[0mprint\u001b[0m\u001b[1;33m(\u001b[0m\u001b[1;34m\"last sentences --->\"\u001b[0m\u001b[1;33m,\u001b[0m\u001b[0mself\u001b[0m\u001b[1;33m.\u001b[0m\u001b[0mlast_sentences\u001b[0m\u001b[1;33m[\u001b[0m\u001b[0mi\u001b[0m\u001b[1;33m]\u001b[0m\u001b[1;33m.\u001b[0m\u001b[0mT\u001b[0m\u001b[1;33m)\u001b[0m\u001b[1;33m\u001b[0m\u001b[1;33m\u001b[0m\u001b[0m\n\u001b[0;32m     69\u001b[0m             \u001b[0mdWaa\u001b[0m \u001b[1;33m+=\u001b[0m \u001b[0mtemp\u001b[0m \u001b[1;33m*\u001b[0m \u001b[0mself\u001b[0m\u001b[1;33m.\u001b[0m\u001b[0mlast_as\u001b[0m\u001b[1;33m[\u001b[0m\u001b[0mi\u001b[0m\u001b[1;33m]\u001b[0m\u001b[1;33m.\u001b[0m\u001b[0mT\u001b[0m\u001b[1;33m\u001b[0m\u001b[1;33m\u001b[0m\u001b[0m\n\u001b[1;32m---> 70\u001b[1;33m             \u001b[0mdWax\u001b[0m \u001b[1;33m+=\u001b[0m \u001b[0mnp\u001b[0m\u001b[1;33m.\u001b[0m\u001b[0mmatmul\u001b[0m\u001b[1;33m(\u001b[0m\u001b[0mtemp\u001b[0m\u001b[1;33m,\u001b[0m\u001b[0mself\u001b[0m\u001b[1;33m.\u001b[0m\u001b[0mlast_sentences\u001b[0m\u001b[1;33m[\u001b[0m\u001b[0mi\u001b[0m\u001b[1;33m]\u001b[0m\u001b[1;33m.\u001b[0m\u001b[0mT\u001b[0m\u001b[1;33m)\u001b[0m\u001b[1;33m\u001b[0m\u001b[1;33m\u001b[0m\u001b[0m\n\u001b[0m\u001b[0;32m     71\u001b[0m \u001b[1;33m\u001b[0m\u001b[0m\n\u001b[0;32m     72\u001b[0m             \u001b[0mdba\u001b[0m  \u001b[1;33m+=\u001b[0m \u001b[0mtemp\u001b[0m\u001b[1;33m\u001b[0m\u001b[1;33m\u001b[0m\u001b[0m\n",
      "\u001b[1;31mValueError\u001b[0m: matmul: Input operand 1 does not have enough dimensions (has 0, gufunc core with signature (n?,k),(k,m?)->(n?,m?) requires 1)"
     ]
    }
   ],
   "source": [
    "# Initialize our RNN!\n",
    "\n",
    "rnn = RNN(1, 2)\n",
    "\n",
    "def processData(data,refernce ,backprop=True):\n",
    "  '''\n",
    "  Returns the RNN's loss and accuracy for the given data.\n",
    "  - data is a dictionary mapping text to True or False.\n",
    "  - backprop determines if the backward phase should be run.\n",
    "  '''\n",
    "  items = data\n",
    "\n",
    "  loss = 0\n",
    "  num_correct = 0\n",
    "\n",
    "  for x in range (len(items)):\n",
    "    inputs = items[x]  \n",
    "    target = refernce[x]\n",
    "    #print(\"Input >>>>\",inputs,\"Targets >>>>\", target)\n",
    "    # Forward\n",
    "    out, _ = rnn.forward_prop(inputs)\n",
    "\n",
    "    probs = linear(out)\n",
    "    #print(\"Probs >>>>\",probs,np.shape(probs))\n",
    "    # Calculate loss / accuracy\n",
    "    loss += (target-probs[0])**2\n",
    "\n",
    "    #If Classification\n",
    "    #num_correct += int(np.argmax(probs) == target)\n",
    "\n",
    "    if backprop:\n",
    "        # Build dL/dy\n",
    "        d_L_d_y = -2*(target-probs)\n",
    "\n",
    "        # Backward\n",
    "        rnn.back_prop(d_L_d_y[0])\n",
    "\n",
    "  return loss / len(data),   num_correct / len(data)\n",
    "\n",
    "# Training loop\n",
    "for epoch in range(1000):\n",
    "  train_loss, train_acc = processData(data = every_input, refernce=RX_Q_to_train )\n",
    "\n",
    "  if epoch % 100 == 99:\n",
    "    print('--- Epoch %d' % (epoch + 1))\n",
    "    print('Train:\\tLoss %.3f | Accuracy: %.3f' % (train_loss, train_acc))\n",
    "\n",
    "    test_loss, test_acc = processData(df.test_data, backprop=False)\n",
    "    print('Test:\\tLoss %.3f | Accuracy: %.3f' % (test_loss, test_acc))"
   ]
  },
  {
   "cell_type": "code",
   "execution_count": null,
   "metadata": {},
   "outputs": [],
   "source": [
    "df.train_data"
   ]
  },
  {
   "cell_type": "code",
   "execution_count": 57,
   "metadata": {},
   "outputs": [
    {
     "ename": "TypeError",
     "evalue": "processData() missing 1 required positional argument: 'refernce'",
     "output_type": "error",
     "traceback": [
      "\u001b[1;31m---------------------------------------------------------------------------\u001b[0m",
      "\u001b[1;31mTypeError\u001b[0m                                 Traceback (most recent call last)",
      "\u001b[1;32m~\\AppData\\Local\\Temp\\ipykernel_13160\\924672383.py\u001b[0m in \u001b[0;36m<module>\u001b[1;34m\u001b[0m\n\u001b[0;32m      1\u001b[0m \u001b[1;32mfor\u001b[0m \u001b[0mepoch\u001b[0m \u001b[1;32min\u001b[0m \u001b[0mrange\u001b[0m\u001b[1;33m(\u001b[0m\u001b[1;36m1000\u001b[0m\u001b[1;33m)\u001b[0m\u001b[1;33m:\u001b[0m\u001b[1;33m\u001b[0m\u001b[1;33m\u001b[0m\u001b[0m\n\u001b[1;32m----> 2\u001b[1;33m   \u001b[0mtrain_loss\u001b[0m\u001b[1;33m,\u001b[0m \u001b[0mtrain_acc\u001b[0m \u001b[1;33m=\u001b[0m \u001b[0mprocessData\u001b[0m\u001b[1;33m(\u001b[0m\u001b[0mdf\u001b[0m\u001b[1;33m.\u001b[0m\u001b[0mtrain_data\u001b[0m\u001b[1;33m)\u001b[0m\u001b[1;33m\u001b[0m\u001b[1;33m\u001b[0m\u001b[0m\n\u001b[0m\u001b[0;32m      3\u001b[0m \u001b[1;33m\u001b[0m\u001b[0m\n\u001b[0;32m      4\u001b[0m   \u001b[1;32mif\u001b[0m \u001b[0mepoch\u001b[0m \u001b[1;33m%\u001b[0m \u001b[1;36m100\u001b[0m \u001b[1;33m==\u001b[0m \u001b[1;36m99\u001b[0m\u001b[1;33m:\u001b[0m\u001b[1;33m\u001b[0m\u001b[1;33m\u001b[0m\u001b[0m\n\u001b[0;32m      5\u001b[0m     \u001b[0mprint\u001b[0m\u001b[1;33m(\u001b[0m\u001b[1;34m'--- Epoch %d'\u001b[0m \u001b[1;33m%\u001b[0m \u001b[1;33m(\u001b[0m\u001b[0mepoch\u001b[0m \u001b[1;33m+\u001b[0m \u001b[1;36m1\u001b[0m\u001b[1;33m)\u001b[0m\u001b[1;33m)\u001b[0m\u001b[1;33m\u001b[0m\u001b[1;33m\u001b[0m\u001b[0m\n",
      "\u001b[1;31mTypeError\u001b[0m: processData() missing 1 required positional argument: 'refernce'"
     ]
    }
   ],
   "source": [
    "for epoch in range(1000):\n",
    "  train_loss, train_acc = processData(df.train_data)\n",
    "\n",
    "  if epoch % 100 == 99:\n",
    "    print('--- Epoch %d' % (epoch + 1))\n",
    "    print('Train:\\tLoss %.3f | Accuracy: %.3f' % (train_loss, train_acc))\n",
    "\n",
    "    test_loss, test_acc = processData(df.test_data, backprop=False)\n",
    "    print('Test:\\tLoss %.3f | Accuracy: %.3f' % (test_loss, test_acc))"
   ]
  },
  {
   "cell_type": "code",
   "execution_count": 56,
   "metadata": {},
   "outputs": [],
   "source": [
    "RX_Q_to_train = RX_Q_data[delay+i*est_per:(i+1)*(est_per)+delay]\n",
    "RX_Q_to_train_2 = -RX_Q_to_train\n",
    "RX_Q_to_train = np.concatenate((RX_Q_to_train,RX_Q_to_train_2),axis=1)"
   ]
  },
  {
   "cell_type": "code",
   "execution_count": 52,
   "metadata": {},
   "outputs": [],
   "source": [
    "import scipy.io\n",
    "import RLS\n",
    "f = scipy.io.loadmat('RLS_DATA.mat')\n",
    "delay = 300\n",
    "vars = f.keys()\n",
    "\n",
    "data_size = f.get(\"RX_I\").size\n",
    "\n",
    "RX_Q_data = f.get(\"RX_Q\")\n",
    "RX_I_data = f.get(\"RX_I\")\n",
    "TX_Q_data = f.get(\"TX_Q\")\n",
    "TX_I_data = f.get(\"TX_I\")"
   ]
  },
  {
   "cell_type": "code",
   "execution_count": 53,
   "metadata": {},
   "outputs": [
    {
     "data": {
      "text/plain": [
       "<matplotlib.legend.Legend at 0x22380b42d48>"
      ]
     },
     "execution_count": 53,
     "metadata": {},
     "output_type": "execute_result"
    },
    {
     "data": {
      "image/png": "[encoded data removed]",
      "text/plain": [
       "<Figure size 842.4x595.44 with 1 Axes>"
      ]
     },
     "metadata": {},
     "output_type": "display_data"
    }
   ],
   "source": [
    "import matplotlib.pylab as plt\n",
    "import math\n",
    "import pandas as pd\n",
    "import seaborn as sns\n",
    "sns.set()\n",
    "from matplotlib import rcParams\n",
    "rcParams['figure.figsize'] = 11.7,8.27\n",
    "\n",
    "est_per = 25\n",
    "num_test = 3\n",
    "inital_clip = 35\n",
    "end_clip = inital_clip+num_test\n",
    "\n",
    "line_refernce = np.linspace(0,est_per,est_per)\n",
    "\n",
    "for i in range (inital_clip,end_clip):\n",
    "    plt.plot(TX_Q_data[i*est_per:(i+1)*(est_per)],RX_Q_data[delay+i*est_per:(i+1)*(est_per)+delay],    label='Data Clip {}'.format(i))  \n",
    "\n",
    "#plt.step(line_refernce,np.squeeze(every_pure_input).T[0:test_size][0],label='Pure_Input')      \n",
    "#plt.step(line_refernce, every_input[0:test_size],label='Curropted Signal') \n",
    "#plt.step(line_refernce,every_input[0:test_size],label='Input Signals After The Channels')       \n",
    "plt.legend()"
   ]
  },
  {
   "cell_type": "code",
   "execution_count": 54,
   "metadata": {},
   "outputs": [],
   "source": [
    "def generate_input(data,mem_len,test_size):\n",
    "    every_input     = np.zeros((test_size,mem_len))\n",
    "    avilable_input  = np.zeros(mem_len)\n",
    "\n",
    "    for k in range (mem_len):\n",
    "        data = np.insert(data,0,0)\n",
    "\n",
    "    for j in range (test_size):\n",
    "        for i in range (mem_len):\n",
    "            avilable_input[i] = data[j+i]\n",
    "        every_input[j] = avilable_input\n",
    "    \n",
    "    print(len(every_input))\n",
    "\n",
    "\n",
    "    return every_input "
   ]
  },
  {
   "cell_type": "code",
   "execution_count": 55,
   "metadata": {},
   "outputs": [
    {
     "name": "stdout",
     "output_type": "stream",
     "text": [
      "25\n"
     ]
    }
   ],
   "source": [
    "i = 0\n",
    "every_input = generate_input(TX_Q_data[i*est_per:(i+1)*(est_per)],4,len(TX_Q_data[i:(i+1)*(est_per)]))"
   ]
  },
  {
   "cell_type": "code",
   "execution_count": null,
   "metadata": {},
   "outputs": [],
   "source": []
  },
  {
   "cell_type": "code",
   "execution_count": null,
   "metadata": {},
   "outputs": [],
   "source": []
  }
 ],
 "metadata": {
  "kernelspec": {
   "display_name": "Python 3.7.9 64-bit (microsoft store)",
   "language": "python",
   "name": "python3"
  },
  "language_info": {
   "codemirror_mode": {
    "name": "ipython",
    "version": 3
   },
   "file_extension": ".py",
   "mimetype": "text/x-python",
   "name": "python",
   "nbconvert_exporter": "python",
   "pygments_lexer": "ipython3",
   "version": "3.7.9"
  },
  "orig_nbformat": 4,
  "vscode": {
   "interpreter": {
    "hash": "45a851a8e049304e8d8fc9276f397ed5699faa42a654317800ed71714fc34a6c"
   }
  }
 },
 "nbformat": 4,
 "nbformat_minor": 2
}
